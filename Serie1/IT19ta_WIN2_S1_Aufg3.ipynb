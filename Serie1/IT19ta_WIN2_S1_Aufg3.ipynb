{
 "cells": [
  {
   "cell_type": "code",
   "execution_count": 52,
   "metadata": {},
   "outputs": [],
   "source": [
    "import numpy as np\n",
    "import matplotlib.pyplot as plt\n",
    "import math as m\n",
    "%matplotlib inline"
   ]
  },
  {
   "cell_type": "code",
   "execution_count": 53,
   "metadata": {},
   "outputs": [],
   "source": [
    "def fact_rec(n):\n",
    "    # y = fact_rec(n) berechnet die Fakultät von n als fact_rec(n) = n * fact_rec(n -1) mit fact_rec(0) = 1\n",
    "    # Fehler, falls n < 0 oder nicht ganzzahlig\n",
    "    import numpy as np\n",
    "    if n < 0 or np.trunc(n) != n:\n",
    "        raise Exception('The factorial is defined only for positive integers')\n",
    "    if n <=1:\n",
    "        return 1\n",
    "    else:\n",
    "        return n*fact_rec(n-1)"
   ]
  },
  {
   "cell_type": "code",
   "execution_count": 56,
   "metadata": {},
   "outputs": [],
   "source": [
    "def fact_for(n):\n",
    "    import numpy as np\n",
    "    if n < 0 or np.trunc(n) != n:\n",
    "        raise Exception('The factorial is defined only for positive integers')\n",
    "    if n <=1:\n",
    "        return 1\n",
    "    else:\n",
    "        fact = 1\n",
    "        for i in range(1, n + 1):\n",
    "            fact = fact * i\n",
    "        return fact"
   ]
  },
  {
   "cell_type": "code",
   "execution_count": 62,
   "metadata": {},
   "outputs": [
    {
     "name": "stdout",
     "output_type": "stream",
     "text": [
      "24\n",
      "24\n"
     ]
    }
   ],
   "source": [
    "#tests\n",
    "print(fact_rec(4))\n",
    "print(fact_for(4))"
   ]
  },
  {
   "cell_type": "code",
   "execution_count": 61,
   "metadata": {},
   "outputs": [
    {
     "name": "stdout",
     "output_type": "stream",
     "text": [
      "0.2654691999998704\n",
      "0.033285800000157906\n"
     ]
    }
   ],
   "source": [
    "import timeit, statistics\n",
    "\n",
    "t1=timeit.repeat(\"fact_rec(1000)\",\"from __main__ import fact_rec\", number=100)\n",
    "t2=timeit.repeat(\"fact_for(1000)\",\"from __main__ import fact_for\", number=100)\n",
    "\n",
    "print(statistics.median(t1))\n",
    "print(statistics.median(t2))"
   ]
  },
  {
   "cell_type": "markdown",
   "metadata": {},
   "source": [
    "# Welche der beiden Funktionen ist schneller und um was für einen Faktor? Weshalb?\n",
    "Die rekursive ist langsamer. Dies liegt daran, dass das programm immer neue ressourcen zur verfügung stellen muss.\n",
    "Bei einem For-Loop sind oftmals mehr codezeilen nötig, dafür sind die Programme damit schneller\n",
    "\n",
    "# Gibt es in Python eine obere Grenze für die Fakultät von n\n",
    "## als ganze Zahl (vom Typ 'integer')? Versuchen Sie hierzu, das Resultat für n ∈ [190, 200] als float auszugeben.\n",
    "Nein, es ist abhängig vom System und der Python version.\n",
    "## als reelle Zahl (vom Typ 'float')? Versuchen Sie hierzu, das Resultat für n ∈ [170, 171] als float auszugeben.\n",
    "Ja, bei floats gibt es eine limite, wie auch unten gut sichtbar ist:"
   ]
  },
  {
   "cell_type": "code",
   "execution_count": 85,
   "metadata": {},
   "outputs": [
    {
     "name": "stdout",
     "output_type": "stream",
     "text": [
      "inf\n",
      "inf\n",
      "inf\n",
      "inf\n",
      "inf\n",
      "inf\n",
      "inf\n",
      "inf\n",
      "inf\n",
      "inf\n",
      "inf\n",
      "0\n",
      "0\n"
     ]
    },
    {
     "name": "stderr",
     "output_type": "stream",
     "text": [
      "<ipython-input-53-46a1f86baad8>:10: RuntimeWarning: overflow encountered in double_scalars\n",
      "  return n*fact_rec(n-1)\n",
      "<ipython-input-53-46a1f86baad8>:10: RuntimeWarning: overflow encountered in longlong_scalars\n",
      "  return n*fact_rec(n-1)\n"
     ]
    }
   ],
   "source": [
    "floats = np.array(range(190, 201), dtype=np.float64)\n",
    "\n",
    "for i in floats:\n",
    "    print(fact_rec(i))\n",
    "    \n",
    "    \n",
    "ints = np.array(range(170,172),dtype=np.int64)\n",
    "for i in ints:\n",
    "    print(fact_rec(i))\n"
   ]
  },
  {
   "cell_type": "code",
   "execution_count": 84,
   "metadata": {},
   "outputs": [
    {
     "data": {
      "text/plain": [
       "1.7976931348623157e+308"
      ]
     },
     "execution_count": 84,
     "metadata": {},
     "output_type": "execute_result"
    }
   ],
   "source": [
    "#Max Value von Float\n",
    "import sys\n",
    "sys.float_info.max\n",
    "\n",
    "# Error bei max Value für int, es gibt keinen bei python\n",
    "#sys.int_info.max"
   ]
  },
  {
   "cell_type": "code",
   "execution_count": null,
   "metadata": {},
   "outputs": [],
   "source": []
  }
 ],
 "metadata": {
  "kernelspec": {
   "display_name": "Python 3",
   "language": "python",
   "name": "python3"
  },
  "language_info": {
   "codemirror_mode": {
    "name": "ipython",
    "version": 3
   },
   "file_extension": ".py",
   "mimetype": "text/x-python",
   "name": "python",
   "nbconvert_exporter": "python",
   "pygments_lexer": "ipython3",
   "version": "3.8.3"
  }
 },
 "nbformat": 4,
 "nbformat_minor": 4
}
