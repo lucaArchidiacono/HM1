{
 "metadata": {
  "language_info": {
   "codemirror_mode": {
    "name": "ipython",
    "version": 3
   },
   "file_extension": ".py",
   "mimetype": "text/x-python",
   "name": "python",
   "nbconvert_exporter": "python",
   "pygments_lexer": "ipython3",
   "version": "3.8.5-final"
  },
  "orig_nbformat": 2,
  "kernelspec": {
   "name": "python_defaultSpec_1600696977728",
   "display_name": "Python 3.8.5 32-bit"
  }
 },
 "nbformat": 4,
 "nbformat_minor": 2,
 "cells": [
  {
   "cell_type": "code",
   "execution_count": 1,
   "metadata": {
    "tags": []
   },
   "outputs": [
    {
     "output_type": "stream",
     "name": "stdout",
     "text": "Teilaufgabe a\n[30 24 22 24]\n[30 36 38 36]\n[[1 2 3 4]\n [2 3 4 1]\n [3 4 1 2]\n [4 1 2 3]]\n[[5 4 3 2]\n [4 3 2 5]\n [3 2 5 4]\n [2 5 4 3]]\n[[30 24 22 24]\n [24 30 24 22]\n [22 24 30 24]\n [24 22 24 30]]\n[[54 48 46 48]\n [48 54 48 46]\n [46 48 54 48]\n [48 46 48 54]]\n"
    }
   ],
   "source": [
    "import numpy as np\n",
    "\n",
    "matrixA = np.array([[1, 2, 3, 4], [2, 3, 4, 1], [3, 4, 1, 2], [4, 1, 2, 3]])\n",
    "matrixB = np.array([[5, 4, 3, 2], [4, 3, 2, 5], [3, 2, 5, 4], [2, 5, 4, 3]])\n",
    "vektorB = np.array([1, 2, 3, 4])\n",
    "\n",
    "# Teilaufgabe a\n",
    "print(np.dot(matrixA, vektorB))\n",
    "print(np.dot(matrixB, vektorB))\n",
    "print(matrixA.T)\n",
    "print(matrixB.T)\n",
    "print(np.dot(matrixA.T, matrixA))\n",
    "print(np.dot(matrixB.T, matrixB))\n"
   ]
  },
  {
   "cell_type": "code",
   "execution_count": 2,
   "metadata": {
    "tags": []
   },
   "outputs": [
    {
     "output_type": "stream",
     "name": "stdout",
     "text": "38\n"
    }
   ],
   "source": [
    "import numpy as np\n",
    "\n",
    "matrixA = np.array([[1, 2, 3, 4], [2, 3, 4, 1], [3, 4, 1, 2], [4, 1, 2, 3]])\n",
    "matrixB = np.array([[5, 4, 3, 2], [4, 3, 2, 5], [3, 2, 5, 4], [2, 5, 4, 3]])\n",
    "vektorB = np.array([1, 2, 3, 4])\n",
    "\n",
    "# Teilaufgabe b\n",
    "print(np.dot(matrixA[3,:], matrixB[:,1]))"
   ]
  },
  {
   "cell_type": "code",
   "execution_count": 2,
   "metadata": {
    "tags": []
   },
   "outputs": [
    {
     "output_type": "stream",
     "name": "stdout",
     "text": "[14 14 14 14]\n[10 10 10 10]\n"
    }
   ],
   "source": [
    "import numpy as np\n",
    "\n",
    "matrixA = np.array([[1, 2, 3, 4], [2, 3, 4, 1], [3, 4, 1, 2], [4, 1, 2, 3]])\n",
    "matrixB = np.array([[5, 4, 3, 2], [4, 3, 2, 5], [3, 2, 5, 4], [2, 5, 4, 3]])\n",
    "vektorB = np.array([1, 2, 3, 4])\n",
    "\n",
    "# Teilaufgabe c\n",
    "print(np.sum(matrixB, axis=1))\n",
    "print(np.sum(matrixA, axis=0))"
   ]
  },
  {
   "cell_type": "code",
   "execution_count": null,
   "metadata": {},
   "outputs": [],
   "source": []
  }
 ]
}